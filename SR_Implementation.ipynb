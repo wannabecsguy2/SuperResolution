{
 "cells": [
  {
   "cell_type": "code",
   "execution_count": null,
   "metadata": {},
   "outputs": [],
   "source": [
    "import numpy as np\n",
    "import pandas as pd\n",
    "import matplotlib.pyplot as plt\n",
    "\n",
    "import cv2\n",
    "\n",
    "%matplotlib inline"
   ]
  },
  {
   "cell_type": "code",
   "execution_count": null,
   "metadata": {},
   "outputs": [],
   "source": [
    "#Nearest Neighbour Interpolation\n",
    "def nearest_neighbour_interpolation(raw_image):\n",
    "    nn_img = cv2.resize(raw_image, None, fx = 10, fy = 10, interpolation = cv2.INTER_NEAREST)\n",
    "    return nn_img\n",
    "\n",
    "#Bilinear Interpolation\n",
    "def bilinear_interpolation(raw_image):\n",
    "    bilinear_img = cv2.resize(img, None, fx = 10, fy = 10, interpolation = cv2.INTER_LINEAR)\n",
    "    return bilinear_img\n",
    "\n",
    "#Bicubic Interpolation\n",
    "def bicubic_interpolation(raw_image):\n",
    "    bicubic_img = cv2.resize(img, None, fx = 10, fy = 10, interpolation = cv2.INTER_CUBIC)\n",
    "    return bicubic_img\n"
   ]
  },
  {
   "cell_type": "code",
   "execution_count": null,
   "metadata": {},
   "outputs": [],
   "source": []
  }
 ],
 "metadata": {
  "kernelspec": {
   "display_name": "Python 3.9.12 ('SuperResolution')",
   "language": "python",
   "name": "python3"
  },
  "language_info": {
   "name": "python",
   "version": "3.9.12"
  },
  "orig_nbformat": 4,
  "vscode": {
   "interpreter": {
    "hash": "566508e0598586f7da9ab2445125b84ab87d7db928569cada89bde005f2a7f11"
   }
  }
 },
 "nbformat": 4,
 "nbformat_minor": 2
}
